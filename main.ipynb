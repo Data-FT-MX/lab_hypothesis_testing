{
  "nbformat": 4,
  "nbformat_minor": 0,
  "metadata": {
    "kernelspec": {
      "display_name": "Python 3",
      "language": "python",
      "name": "python3"
    },
    "language_info": {
      "codemirror_mode": {
        "name": "ipython",
        "version": 3
      },
      "file_extension": ".py",
      "mimetype": "text/x-python",
      "name": "python",
      "nbconvert_exporter": "python",
      "pygments_lexer": "ipython3",
      "version": "3.7.3"
    },
    "colab": {
      "name": "main.ipynb",
      "provenance": [],
      "collapsed_sections": [],
      "include_colab_link": true
    }
  },
  "cells": [
    {
      "cell_type": "markdown",
      "metadata": {
        "id": "view-in-github",
        "colab_type": "text"
      },
      "source": [
        "<a href=\"https://colab.research.google.com/github/juanmanuelvillacis/lab_hypothesis_testing/blob/master/main.ipynb\" target=\"_parent\"><img src=\"https://colab.research.google.com/assets/colab-badge.svg\" alt=\"Open In Colab\"/></a>"
      ]
    },
    {
      "cell_type": "markdown",
      "metadata": {
        "id": "6o2NkMySBcSD"
      },
      "source": [
        "# Before your start:\n",
        "- Read the README.md file\n",
        "- Comment as much as you can and use the resources (README.md file)\n",
        "- Happy learning!"
      ]
    },
    {
      "cell_type": "code",
      "metadata": {
        "id": "gehjLShCBcSM"
      },
      "source": [
        "# import numpy and pandas\n",
        "import numpy as np \n",
        "import pandas as pd\n"
      ],
      "execution_count": null,
      "outputs": []
    },
    {
      "cell_type": "markdown",
      "metadata": {
        "id": "YQBb85L3BcST"
      },
      "source": [
        "# Challenge 1 - Exploring the Data\n",
        "\n",
        "In this challenge, we will examine all salaries of employees of the City of Chicago. We will start by loading the dataset and examining its contents"
      ]
    },
    {
      "cell_type": "code",
      "metadata": {
        "id": "8YBPAvAmBcSU"
      },
      "source": [
        "# Run this code:\n",
        "\n",
        "salaries = pd.read_csv('/content/drive/MyDrive/Iron Hack/LABs/Module_2/lab_hypothesis_testing/Current_Employee_Names__Salaries__and_Position_Titles.csv')"
      ],
      "execution_count": null,
      "outputs": []
    },
    {
      "cell_type": "markdown",
      "metadata": {
        "id": "e76CTFsFBcSV"
      },
      "source": [
        "Examine the `salaries` dataset using the `head` function below."
      ]
    },
    {
      "cell_type": "code",
      "metadata": {
        "colab": {
          "base_uri": "https://localhost:8080/",
          "height": 202
        },
        "id": "uBjKoM5LBcSW",
        "outputId": "8cd67b6c-bf2d-485f-e690-c00cb4128558"
      },
      "source": [
        "# Your code here:\n",
        "salaries.head()"
      ],
      "execution_count": null,
      "outputs": [
        {
          "output_type": "execute_result",
          "data": {
            "text/html": [
              "<div>\n",
              "<style scoped>\n",
              "    .dataframe tbody tr th:only-of-type {\n",
              "        vertical-align: middle;\n",
              "    }\n",
              "\n",
              "    .dataframe tbody tr th {\n",
              "        vertical-align: top;\n",
              "    }\n",
              "\n",
              "    .dataframe thead th {\n",
              "        text-align: right;\n",
              "    }\n",
              "</style>\n",
              "<table border=\"1\" class=\"dataframe\">\n",
              "  <thead>\n",
              "    <tr style=\"text-align: right;\">\n",
              "      <th></th>\n",
              "      <th>Name</th>\n",
              "      <th>Job Titles</th>\n",
              "      <th>Department</th>\n",
              "      <th>Full or Part-Time</th>\n",
              "      <th>Salary or Hourly</th>\n",
              "      <th>Typical Hours</th>\n",
              "      <th>Annual Salary</th>\n",
              "      <th>Hourly Rate</th>\n",
              "    </tr>\n",
              "  </thead>\n",
              "  <tbody>\n",
              "    <tr>\n",
              "      <th>0</th>\n",
              "      <td>AARON,  JEFFERY M</td>\n",
              "      <td>SERGEANT</td>\n",
              "      <td>POLICE</td>\n",
              "      <td>F</td>\n",
              "      <td>Salary</td>\n",
              "      <td>NaN</td>\n",
              "      <td>101442.0</td>\n",
              "      <td>NaN</td>\n",
              "    </tr>\n",
              "    <tr>\n",
              "      <th>1</th>\n",
              "      <td>AARON,  KARINA</td>\n",
              "      <td>POLICE OFFICER (ASSIGNED AS DETECTIVE)</td>\n",
              "      <td>POLICE</td>\n",
              "      <td>F</td>\n",
              "      <td>Salary</td>\n",
              "      <td>NaN</td>\n",
              "      <td>94122.0</td>\n",
              "      <td>NaN</td>\n",
              "    </tr>\n",
              "    <tr>\n",
              "      <th>2</th>\n",
              "      <td>AARON,  KIMBERLEI R</td>\n",
              "      <td>CHIEF CONTRACT EXPEDITER</td>\n",
              "      <td>GENERAL SERVICES</td>\n",
              "      <td>F</td>\n",
              "      <td>Salary</td>\n",
              "      <td>NaN</td>\n",
              "      <td>101592.0</td>\n",
              "      <td>NaN</td>\n",
              "    </tr>\n",
              "    <tr>\n",
              "      <th>3</th>\n",
              "      <td>ABAD JR,  VICENTE M</td>\n",
              "      <td>CIVIL ENGINEER IV</td>\n",
              "      <td>WATER MGMNT</td>\n",
              "      <td>F</td>\n",
              "      <td>Salary</td>\n",
              "      <td>NaN</td>\n",
              "      <td>110064.0</td>\n",
              "      <td>NaN</td>\n",
              "    </tr>\n",
              "    <tr>\n",
              "      <th>4</th>\n",
              "      <td>ABASCAL,  REECE E</td>\n",
              "      <td>TRAFFIC CONTROL AIDE-HOURLY</td>\n",
              "      <td>OEMC</td>\n",
              "      <td>P</td>\n",
              "      <td>Hourly</td>\n",
              "      <td>20.0</td>\n",
              "      <td>NaN</td>\n",
              "      <td>19.86</td>\n",
              "    </tr>\n",
              "  </tbody>\n",
              "</table>\n",
              "</div>"
            ],
            "text/plain": [
              "                  Name  ... Hourly Rate\n",
              "0    AARON,  JEFFERY M  ...         NaN\n",
              "1      AARON,  KARINA   ...         NaN\n",
              "2  AARON,  KIMBERLEI R  ...         NaN\n",
              "3  ABAD JR,  VICENTE M  ...         NaN\n",
              "4    ABASCAL,  REECE E  ...       19.86\n",
              "\n",
              "[5 rows x 8 columns]"
            ]
          },
          "metadata": {},
          "execution_count": 4
        }
      ]
    },
    {
      "cell_type": "markdown",
      "metadata": {
        "id": "GjRTktEfBcSW"
      },
      "source": [
        "We see from looking at the `head` function that there is quite a bit of missing data. Let's examine how much missing data is in each column. Produce this output in the cell below"
      ]
    },
    {
      "cell_type": "code",
      "metadata": {
        "colab": {
          "base_uri": "https://localhost:8080/"
        },
        "id": "2JNdN3ZzBcSX",
        "outputId": "e55470a5-e2ce-49b2-8695-453ffb80507c"
      },
      "source": [
        "# Your code here:\n",
        "salaries.isnull().sum()\n"
      ],
      "execution_count": null,
      "outputs": [
        {
          "output_type": "execute_result",
          "data": {
            "text/plain": [
              "Name                     0\n",
              "Job Titles               0\n",
              "Department               0\n",
              "Full or Part-Time        0\n",
              "Salary or Hourly         0\n",
              "Typical Hours        25161\n",
              "Annual Salary         8022\n",
              "Hourly Rate          25161\n",
              "dtype: int64"
            ]
          },
          "metadata": {},
          "execution_count": 8
        }
      ]
    },
    {
      "cell_type": "markdown",
      "metadata": {
        "id": "Po_F3pDGBcSY"
      },
      "source": [
        "Let's also look at the count of hourly vs. salaried employees. Write the code in the cell below"
      ]
    },
    {
      "cell_type": "code",
      "metadata": {
        "colab": {
          "base_uri": "https://localhost:8080/"
        },
        "id": "uYLYwmiXBcSZ",
        "outputId": "44c2b5ec-187f-4fd5-9a29-63465262546c"
      },
      "source": [
        "# Your code here:\n",
        "\n",
        "salaries[salaries['Salary or Hourly']=='Salary'].agg({'Name':'count'}) , salaries[salaries['Salary or Hourly']=='Hourly'].agg({'Name':'count'})"
      ],
      "execution_count": null,
      "outputs": [
        {
          "output_type": "execute_result",
          "data": {
            "text/plain": [
              "(Name    25161\n",
              " dtype: int64, Name    8022\n",
              " dtype: int64)"
            ]
          },
          "metadata": {},
          "execution_count": 14
        }
      ]
    },
    {
      "cell_type": "markdown",
      "metadata": {
        "id": "mJySwRkABcSa"
      },
      "source": [
        "What this information indicates is that the table contains information about two types of employees - salaried and hourly. Some columns apply only to one type of employee while other columns only apply to another kind. This is why there are so many missing values. Therefore, we will not do anything to handle the missing values."
      ]
    },
    {
      "cell_type": "markdown",
      "metadata": {
        "id": "EzsRglHrBcSb"
      },
      "source": [
        "There are different departments in the city. List all departments and the count of employees in each department."
      ]
    },
    {
      "cell_type": "code",
      "metadata": {
        "id": "zNiIKaiIBcSc"
      },
      "source": [
        "# Your code here:\n",
        "\n",
        "salaries['Department'].unique()\n",
        "salaries.groupby('Department').agg({'Name':'count'})"
      ],
      "execution_count": null,
      "outputs": []
    },
    {
      "cell_type": "markdown",
      "metadata": {
        "id": "huV_Gb64BcSd"
      },
      "source": [
        "# Challenge 2 - Hypothesis Tests\n",
        "\n",
        "In this section of the lab, we will test whether the hourly wage of all hourly workers is significantly different from $30/hr. Import the correct one sample test function from scipy and perform the hypothesis test for a 95% two sided confidence interval."
      ]
    },
    {
      "cell_type": "code",
      "metadata": {
        "id": "5jH01BRwBcSd"
      },
      "source": [
        "# Your code here:\n",
        "import matplotlib.pyplot as plt\n",
        "import scipy.stats as stats\n",
        "mean_sal = salaries['Hourly Rate']\n",
        "mean_sal"
      ],
      "execution_count": null,
      "outputs": []
    },
    {
      "cell_type": "code",
      "metadata": {
        "id": "d2OooxbrV3e5"
      },
      "source": [
        "index_clean = salaries[salaries['Hourly Rate'].isnull()==True].index\n",
        "index_clean\n",
        "sal_clean = salaries.drop(labels=index_clean,axis=0)"
      ],
      "execution_count": null,
      "outputs": []
    },
    {
      "cell_type": "code",
      "metadata": {
        "id": "it-zbtclUz1j"
      },
      "source": [
        "# P value is less than 0.05 then our hipothesis is True\n",
        "test = stats.ttest_1samp(sal_clean['Hourly Rate'],30)"
      ],
      "execution_count": null,
      "outputs": []
    },
    {
      "cell_type": "code",
      "metadata": {
        "colab": {
          "base_uri": "https://localhost:8080/"
        },
        "id": "frDBy0DFjD86",
        "outputId": "f2f7a10c-d93b-4ed4-b41c-73520fcd4152"
      },
      "source": [
        "confidence = 0.05\n",
        "p_value = test[1]\n",
        "if p_value<confidence:\n",
        "    print(f\"P_value ({p_value}) is lower than the confidence interval ({confidence}), we can reject the null hypothesis\")\n",
        "else:\n",
        "    print(f\"P_value ({p_value}) is higher than the confidence interval ({confidence}), we can`t reject the null hypothesis\")"
      ],
      "execution_count": null,
      "outputs": [
        {
          "output_type": "stream",
          "name": "stdout",
          "text": [
            "P_value (4.3230240486229894e-92) is lower than the confidence interval (0.05), we can reject the null hypothesis\n"
          ]
        }
      ]
    },
    {
      "cell_type": "markdown",
      "metadata": {
        "id": "Sm1f6EBUBcSd"
      },
      "source": [
        "We are also curious about salaries in the police force. The chief of police in Chicago claimed in a press briefing that salaries this year are higher than last year's mean of $86000/year a year for all salaried employees. Test this one sided hypothesis using a 95% confidence interval.\n",
        "\n",
        "Hint: A one tailed test has a p-value that is half of the two tailed p-value. If our hypothesis is greater than, then to reject, the test statistic must also be positive."
      ]
    },
    {
      "cell_type": "code",
      "metadata": {
        "id": "fHeZhReUBcSf"
      },
      "source": [
        "# Your code here:\n",
        "sal_complete = salaries[(salaries['Annual Salary'].isnull()==False)&(salaries[\"Department\"]==\"POLICE\")]['Annual Salary']\n",
        "sal_complete"
      ],
      "execution_count": null,
      "outputs": []
    },
    {
      "cell_type": "code",
      "metadata": {
        "id": "FaKD4XBCYdKF"
      },
      "source": [
        "test = stats.ttest_1samp(sal_complete,86000)"
      ],
      "execution_count": null,
      "outputs": []
    },
    {
      "cell_type": "code",
      "metadata": {
        "colab": {
          "base_uri": "https://localhost:8080/"
        },
        "id": "v9ucdmTtjnrZ",
        "outputId": "a75d1e84-196c-4da6-a913-d324312195ca"
      },
      "source": [
        "confidence = 0.05\n",
        "p_value = test[1]/2\n",
        "if p_value<confidence:\n",
        "    print(f\"P_value ({p_value}) is lower than the confidence interval ({confidence}), we can reject the null hypothesis\")\n",
        "else:\n",
        "    print(f\"P_value ({p_value}) is higher than the confidence interval ({confidence}), we can`t reject the null hypothesis\")"
      ],
      "execution_count": null,
      "outputs": [
        {
          "output_type": "stream",
          "name": "stdout",
          "text": [
            "P_value (0.0010301701775482569) is lower than the confidence interval (0.05), we can reject the null hypothesis\n"
          ]
        }
      ]
    },
    {
      "cell_type": "markdown",
      "metadata": {
        "id": "3kOMJRkqBcSg"
      },
      "source": [
        "Using the `crosstab` function, find the department that has the most hourly workers. "
      ]
    },
    {
      "cell_type": "code",
      "metadata": {
        "colab": {
          "base_uri": "https://localhost:8080/",
          "height": 110
        },
        "id": "ApYfwZUbBcSg",
        "outputId": "eef60de6-c85b-4dae-f4d2-24a9d18f1c7a"
      },
      "source": [
        "# Your code here:\n",
        "pd.crosstab(salaries['Department'],salaries['Salary or Hourly']).sort_values('Hourly',ascending=False).head(1)\n"
      ],
      "execution_count": null,
      "outputs": [
        {
          "output_type": "execute_result",
          "data": {
            "text/html": [
              "<div>\n",
              "<style scoped>\n",
              "    .dataframe tbody tr th:only-of-type {\n",
              "        vertical-align: middle;\n",
              "    }\n",
              "\n",
              "    .dataframe tbody tr th {\n",
              "        vertical-align: top;\n",
              "    }\n",
              "\n",
              "    .dataframe thead th {\n",
              "        text-align: right;\n",
              "    }\n",
              "</style>\n",
              "<table border=\"1\" class=\"dataframe\">\n",
              "  <thead>\n",
              "    <tr style=\"text-align: right;\">\n",
              "      <th>Salary or Hourly</th>\n",
              "      <th>Hourly</th>\n",
              "      <th>Salary</th>\n",
              "    </tr>\n",
              "    <tr>\n",
              "      <th>Department</th>\n",
              "      <th></th>\n",
              "      <th></th>\n",
              "    </tr>\n",
              "  </thead>\n",
              "  <tbody>\n",
              "    <tr>\n",
              "      <th>STREETS &amp; SAN</th>\n",
              "      <td>1862</td>\n",
              "      <td>336</td>\n",
              "    </tr>\n",
              "  </tbody>\n",
              "</table>\n",
              "</div>"
            ],
            "text/plain": [
              "Salary or Hourly  Hourly  Salary\n",
              "Department                      \n",
              "STREETS & SAN       1862     336"
            ]
          },
          "metadata": {},
          "execution_count": 94
        }
      ]
    },
    {
      "cell_type": "markdown",
      "metadata": {
        "id": "g-uqc1Z5BcSh"
      },
      "source": [
        "The workers from the department with the most hourly workers have complained that their hourly wage is less than $35/hour. Using a one sample t-test, test this one-sided hypothesis at the 95% confidence level."
      ]
    },
    {
      "cell_type": "code",
      "metadata": {
        "colab": {
          "base_uri": "https://localhost:8080/"
        },
        "id": "GotfDIBPBcSi",
        "outputId": "c4ad10b0-04eb-4065-dd6a-ae4044309387"
      },
      "source": [
        "# Your code here:\n",
        "sal_most_workers = salaries[(salaries['Department']=='STREETS & SAN')&(salaries['Salary or Hourly']=='Hourly')]['Hourly Rate'].values\n",
        "sal_most_workers"
      ],
      "execution_count": null,
      "outputs": [
        {
          "output_type": "execute_result",
          "data": {
            "text/plain": [
              "array([35.6 , 21.43, 35.6 , ..., 35.6 , 36.21, 22.12])"
            ]
          },
          "metadata": {},
          "execution_count": 108
        }
      ]
    },
    {
      "cell_type": "code",
      "metadata": {
        "colab": {
          "base_uri": "https://localhost:8080/"
        },
        "id": "TtJwj6fWkwGi",
        "outputId": "45371a86-aed0-4235-c6da-01b8d2b4bcc9"
      },
      "source": [
        "test = stats.ttest_1samp(sal_most_workers,35)\n",
        "test"
      ],
      "execution_count": null,
      "outputs": [
        {
          "output_type": "execute_result",
          "data": {
            "text/plain": [
              "Ttest_1sampResult(statistic=-9.567447887848152, pvalue=3.3378530564707717e-21)"
            ]
          },
          "metadata": {},
          "execution_count": 109
        }
      ]
    },
    {
      "cell_type": "code",
      "metadata": {
        "colab": {
          "base_uri": "https://localhost:8080/"
        },
        "id": "juWtSt_Ck04d",
        "outputId": "a3e60a7e-7a5e-402c-c089-113bbcd19419"
      },
      "source": [
        "confidence = 0.05\n",
        "p_value = test[1]\n",
        "if p_value<confidence:\n",
        "    print(f\"P_value ({p_value}) is lower than the confidence interval ({confidence}), we can reject the null hypothesis\")\n",
        "else:\n",
        "    print(f\"P_value ({p_value}) is higher than the confidence interval ({confidence}), we can`t reject the null hypothesis\")\n"
      ],
      "execution_count": null,
      "outputs": [
        {
          "output_type": "stream",
          "name": "stdout",
          "text": [
            "P_value (3.3378530564707717e-21) is lower than the confidence interval (0.05), we can reject the null hypothesis\n"
          ]
        }
      ]
    },
    {
      "cell_type": "markdown",
      "metadata": {
        "id": "hsR5a4lgBcSj"
      },
      "source": [
        "# Challenge 3 - Constructing Confidence Intervals\n",
        "\n",
        "While testing our hypothesis is a great way to gather empirical evidence for accepting or rejecting the hypothesis, another way to gather evidence is by creating a confidence interval. A confidence interval gives us information about the true mean of the population. So for a 95% confidence interval, we are 95% sure that the mean of the population is within the confidence interval. \n",
        ").\n",
        "\n",
        "To read more about confidence intervals, click [here](https://en.wikipedia.org/wiki/Confidence_interval).\n",
        "\n",
        "\n",
        "In the cell below, we will construct a 95% confidence interval for the mean hourly wage of all hourly workers. \n",
        "\n",
        "The confidence interval is computed in SciPy using the `t.interval` function. You can read more about this function [here](https://docs.scipy.org/doc/scipy-0.14.0/reference/generated/scipy.stats.t.html).\n",
        "\n",
        "To compute the confidence interval of the hourly wage, use the 0.95 for the confidence level, number of rows - 1 for degrees of freedom, the mean of the sample for the location parameter and the standard error for the scale. The standard error can be computed using [this](https://docs.scipy.org/doc/scipy/reference/generated/scipy.stats.sem.html) function in SciPy."
      ]
    },
    {
      "cell_type": "code",
      "metadata": {
        "id": "6Ae0d9vrBcSk"
      },
      "source": [
        "# Your code here:\n",
        "from scipy.stats import sem\n",
        "hourly_wage = sal_clean['Hourly Rate'].values\n",
        "confidence_level = 0.95\n",
        "degrees_of_freedom = len(hourly_wage)-1\n",
        "mean_sample = hourly_wage.mean()\n",
        "standard_error = stats.sem(hourly_wage)\n"
      ],
      "execution_count": null,
      "outputs": []
    },
    {
      "cell_type": "markdown",
      "metadata": {
        "id": "Q05l5yzKBcSl"
      },
      "source": [
        "Now construct the 95% confidence interval for all salaried employeed in the police in the cell below."
      ]
    },
    {
      "cell_type": "code",
      "metadata": {
        "colab": {
          "base_uri": "https://localhost:8080/"
        },
        "id": "ZgZ2sPNNBcSm",
        "outputId": "1906ace7-eb5e-4fbc-e076-8c0a15529968"
      },
      "source": [
        "# Your code here:\n",
        "from scipy.stats import t\n",
        "confidence_interval = t.interval(confidence_level,\n",
        "                         degrees_of_freedom,\n",
        "                         mean_sample,\n",
        "                         standard_error)\n",
        "confidence_interval"
      ],
      "execution_count": null,
      "outputs": [
        {
          "output_type": "execute_result",
          "data": {
            "text/plain": [
              "(32.52345834488425, 33.05365708767623)"
            ]
          },
          "metadata": {},
          "execution_count": 116
        }
      ]
    },
    {
      "cell_type": "markdown",
      "metadata": {
        "id": "8hz-mWODBcSm"
      },
      "source": [
        "# Challenge 4 - Hypothesis Tests of Proportions\n",
        "\n",
        "Another type of one sample test is a hypothesis test of proportions. In this test, we examine whether the proportion of a group in our sample is significantly different than a fraction. \n",
        "\n",
        "You can read more about one sample proportion tests [here](http://sphweb.bumc.bu.edu/otlt/MPH-Modules/BS/SAS/SAS6-CategoricalData/SAS6-CategoricalData2.html).\n",
        "\n",
        "In the cell below, use the `proportions_ztest` function from `statsmodels` to perform a hypothesis test that will determine whether the number of hourly workers in the City of Chicago is significantly different from 25% at the 95% confidence level."
      ]
    },
    {
      "cell_type": "code",
      "metadata": {
        "id": "OiToi7tABcSn"
      },
      "source": [
        "# Your code here:\n",
        "#from statsmodels.stats.proportion import proportions_ztest\n",
        "import pandas.util.testing as tm\n",
        "stat, pval = proportions_ztest(len(salaries[salaries['Salary or Hourly']==\"Hourly\"]),\n",
        "                               len(salaries),\n",
        "                               0.25)"
      ],
      "execution_count": null,
      "outputs": []
    },
    {
      "cell_type": "code",
      "metadata": {
        "colab": {
          "base_uri": "https://localhost:8080/"
        },
        "id": "SeFuq5xl-d_a",
        "outputId": "da20471f-0df6-4d5b-f16c-b793d7c2cdf3"
      },
      "source": [
        "pval"
      ],
      "execution_count": null,
      "outputs": [
        {
          "output_type": "execute_result",
          "data": {
            "text/plain": [
              "0.0004481127249057967"
            ]
          },
          "metadata": {},
          "execution_count": 120
        }
      ]
    }
  ]
}