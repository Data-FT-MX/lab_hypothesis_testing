{
  "nbformat": 4,
  "nbformat_minor": 0,
  "metadata": {
    "kernelspec": {
      "display_name": "Python 3",
      "language": "python",
      "name": "python3"
    },
    "language_info": {
      "codemirror_mode": {
        "name": "ipython",
        "version": 3
      },
      "file_extension": ".py",
      "mimetype": "text/x-python",
      "name": "python",
      "nbconvert_exporter": "python",
      "pygments_lexer": "ipython3",
      "version": "3.7.3"
    },
    "colab": {
      "name": "bonus.ipynb",
      "provenance": [],
      "collapsed_sections": [],
      "include_colab_link": true
    }
  },
  "cells": [
    {
      "cell_type": "markdown",
      "metadata": {
        "id": "view-in-github",
        "colab_type": "text"
      },
      "source": [
        "<a href=\"https://colab.research.google.com/github/juanmanuelvillacis/lab_hypothesis_testing/blob/master/bonus.ipynb\" target=\"_parent\"><img src=\"https://colab.research.google.com/assets/colab-badge.svg\" alt=\"Open In Colab\"/></a>"
      ]
    },
    {
      "cell_type": "markdown",
      "metadata": {
        "id": "5W9yvErp_jlw"
      },
      "source": [
        "# Challenge 1 - T-test\n",
        "\n",
        "In statistics, t-test is used to test if two data samples have a significant difference between their means. There are two types of t-test:\n",
        "\n",
        "* **Student's t-test** (a.k.a. independent or uncorrelated t-test). This type of t-test is to compare the samples of **two independent populations** (e.g. test scores of students in two different classes). `scipy` provides the [`ttest_ind`](https://docs.scipy.org/doc/scipy-0.15.1/reference/generated/scipy.stats.ttest_ind.html) method to conduct student's t-test.\n",
        "\n",
        "* **Paired t-test** (a.k.a. dependent or correlated t-test). This type of t-test is to compare the samples of **the same population** (e.g. scores of different tests of students in the same class). `scipy` provides the [`ttest_re`](https://docs.scipy.org/doc/scipy-0.15.1/reference/generated/scipy.stats.ttest_rel.html) method to conduct paired t-test.\n",
        "\n",
        "Both types of t-tests return a number which is called the **p-value**. If p-value is below 0.05, we can confidently declare the null-hypothesis is rejected and the difference is significant. If p-value is between 0.05 and 0.1, we may also declare the null-hypothesis is rejected but we are not highly confident. If p-value is above 0.1 we do not reject the null-hypothesis.\n",
        "\n",
        "Read more about the t-test in [this article](https://researchbasics.education.uconn.edu/t-test/) and [this Quora](https://www.quora.com/What-is-the-difference-between-a-paired-and-unpaired-t-test). Make sure you understand when to use which type of t-test. "
      ]
    },
    {
      "cell_type": "code",
      "metadata": {
        "id": "Wb4dymcn_jl3"
      },
      "source": [
        "# Import libraries\n",
        "\n",
        "import pandas as pd\n",
        "import scipy.stats as stats\n",
        "import numpy as np"
      ],
      "execution_count": null,
      "outputs": []
    },
    {
      "cell_type": "markdown",
      "metadata": {
        "id": "R9XQswKP_jl4"
      },
      "source": [
        "#### Import dataset\n",
        "\n",
        "In this challenge we will work on the Pokemon dataset you have used last week. The goal is to test whether different groups of pokemon (e.g. Legendary vs Normal, Generation 1 vs 2, single-type vs dual-type) have different stats (e.g. HP, Attack, Defense, etc.)."
      ]
    },
    {
      "cell_type": "code",
      "metadata": {
        "colab": {
          "base_uri": "https://localhost:8080/",
          "height": 235
        },
        "id": "2koVq6Be_jl5",
        "outputId": "4c67c373-4785-41fa-ff17-0fa8988dcc77"
      },
      "source": [
        "# Import dataset\n",
        "\n",
        "pokemon = pd.read_csv('/content/drive/MyDrive/Iron Hack/LABs/csv_docs/pokemon.csv')\n",
        "\n",
        "pokemon.head()"
      ],
      "execution_count": null,
      "outputs": [
        {
          "output_type": "execute_result",
          "data": {
            "text/html": [
              "<div>\n",
              "<style scoped>\n",
              "    .dataframe tbody tr th:only-of-type {\n",
              "        vertical-align: middle;\n",
              "    }\n",
              "\n",
              "    .dataframe tbody tr th {\n",
              "        vertical-align: top;\n",
              "    }\n",
              "\n",
              "    .dataframe thead th {\n",
              "        text-align: right;\n",
              "    }\n",
              "</style>\n",
              "<table border=\"1\" class=\"dataframe\">\n",
              "  <thead>\n",
              "    <tr style=\"text-align: right;\">\n",
              "      <th></th>\n",
              "      <th>#</th>\n",
              "      <th>Name</th>\n",
              "      <th>Type 1</th>\n",
              "      <th>Type 2</th>\n",
              "      <th>Total</th>\n",
              "      <th>HP</th>\n",
              "      <th>Attack</th>\n",
              "      <th>Defense</th>\n",
              "      <th>Sp. Atk</th>\n",
              "      <th>Sp. Def</th>\n",
              "      <th>Speed</th>\n",
              "      <th>Generation</th>\n",
              "      <th>Legendary</th>\n",
              "    </tr>\n",
              "  </thead>\n",
              "  <tbody>\n",
              "    <tr>\n",
              "      <th>0</th>\n",
              "      <td>1</td>\n",
              "      <td>Bulbasaur</td>\n",
              "      <td>Grass</td>\n",
              "      <td>Poison</td>\n",
              "      <td>318</td>\n",
              "      <td>45</td>\n",
              "      <td>49</td>\n",
              "      <td>49</td>\n",
              "      <td>65</td>\n",
              "      <td>65</td>\n",
              "      <td>45</td>\n",
              "      <td>1</td>\n",
              "      <td>False</td>\n",
              "    </tr>\n",
              "    <tr>\n",
              "      <th>1</th>\n",
              "      <td>2</td>\n",
              "      <td>Ivysaur</td>\n",
              "      <td>Grass</td>\n",
              "      <td>Poison</td>\n",
              "      <td>405</td>\n",
              "      <td>60</td>\n",
              "      <td>62</td>\n",
              "      <td>63</td>\n",
              "      <td>80</td>\n",
              "      <td>80</td>\n",
              "      <td>60</td>\n",
              "      <td>1</td>\n",
              "      <td>False</td>\n",
              "    </tr>\n",
              "    <tr>\n",
              "      <th>2</th>\n",
              "      <td>3</td>\n",
              "      <td>Venusaur</td>\n",
              "      <td>Grass</td>\n",
              "      <td>Poison</td>\n",
              "      <td>525</td>\n",
              "      <td>80</td>\n",
              "      <td>82</td>\n",
              "      <td>83</td>\n",
              "      <td>100</td>\n",
              "      <td>100</td>\n",
              "      <td>80</td>\n",
              "      <td>1</td>\n",
              "      <td>False</td>\n",
              "    </tr>\n",
              "    <tr>\n",
              "      <th>3</th>\n",
              "      <td>3</td>\n",
              "      <td>VenusaurMega Venusaur</td>\n",
              "      <td>Grass</td>\n",
              "      <td>Poison</td>\n",
              "      <td>625</td>\n",
              "      <td>80</td>\n",
              "      <td>100</td>\n",
              "      <td>123</td>\n",
              "      <td>122</td>\n",
              "      <td>120</td>\n",
              "      <td>80</td>\n",
              "      <td>1</td>\n",
              "      <td>False</td>\n",
              "    </tr>\n",
              "    <tr>\n",
              "      <th>4</th>\n",
              "      <td>4</td>\n",
              "      <td>Charmander</td>\n",
              "      <td>Fire</td>\n",
              "      <td>NaN</td>\n",
              "      <td>309</td>\n",
              "      <td>39</td>\n",
              "      <td>52</td>\n",
              "      <td>43</td>\n",
              "      <td>60</td>\n",
              "      <td>50</td>\n",
              "      <td>65</td>\n",
              "      <td>1</td>\n",
              "      <td>False</td>\n",
              "    </tr>\n",
              "  </tbody>\n",
              "</table>\n",
              "</div>"
            ],
            "text/plain": [
              "   #                   Name Type 1  ... Speed  Generation  Legendary\n",
              "0  1              Bulbasaur  Grass  ...    45           1      False\n",
              "1  2                Ivysaur  Grass  ...    60           1      False\n",
              "2  3               Venusaur  Grass  ...    80           1      False\n",
              "3  3  VenusaurMega Venusaur  Grass  ...    80           1      False\n",
              "4  4             Charmander   Fire  ...    65           1      False\n",
              "\n",
              "[5 rows x 13 columns]"
            ]
          },
          "metadata": {},
          "execution_count": 6
        }
      ]
    },
    {
      "cell_type": "markdown",
      "metadata": {
        "id": "8Z93v3Bv_jl5"
      },
      "source": [
        "#### First we want to define a function with which we can test the means of a feature set of two samples. \n",
        "\n",
        "In the next cell you'll see the annotations of the Python function that explains what this function does and its arguments and returned value. This type of annotation is called **docstring** which is a convention used among Python developers. The docstring convention allows developers to write consistent tech documentations for their codes so that others can read. It also allows some websites to automatically parse the docstrings and display user-friendly documentations.\n",
        "\n",
        "Follow the specifications of the docstring and complete the function."
      ]
    },
    {
      "cell_type": "code",
      "metadata": {
        "id": "3S1Ckmid_jl6"
      },
      "source": [
        "def t_test_features(s1, s2, features=['HP', 'Attack', 'Defense', 'Sp. Atk', 'Sp. Def', 'Speed', 'Total']):\n",
        "    \"\"\"Test means of a feature set of two samples\n",
        "    \n",
        "    Args:\n",
        "        s1 (dataframe): sample 1\n",
        "        s2 (dataframe): sample 2\n",
        "        features (list): an array of features to test\n",
        "    \n",
        "    Returns:\n",
        "        dict: a dictionary of t-test scores for each feature where the feature name is the key and the p-value is the value\n",
        "    \"\"\"\n",
        "    results = {}\n",
        "\n",
        "    # Your code here\n",
        "    for f in features:\n",
        "      res = stats.ttest_ind(s1[f],s2[f])\n",
        "      results[f] = res[1]\n",
        "    return results"
      ],
      "execution_count": null,
      "outputs": []
    },
    {
      "cell_type": "markdown",
      "metadata": {
        "id": "Bs_ZEMf2_jl6"
      },
      "source": [
        "#### Using the `t_test_features` function, conduct t-test for Lengendary vs non-Legendary pokemons.\n",
        "\n",
        "*Hint: your output should look like below:*\n",
        "\n",
        "```\n",
        "{'HP': 1.0026911708035284e-13,\n",
        " 'Attack': 2.520372449236646e-16,\n",
        " 'Defense': 4.8269984949193316e-11,\n",
        " 'Sp. Atk': 1.5514614112239812e-21,\n",
        " 'Sp. Def': 2.2949327864052826e-15,\n",
        " 'Speed': 1.049016311882451e-18,\n",
        " 'Total': 9.357954335957446e-47}\n",
        " ```"
      ]
    },
    {
      "cell_type": "code",
      "metadata": {
        "colab": {
          "base_uri": "https://localhost:8080/",
          "height": 517
        },
        "id": "_Q6g2ipZ_jl8",
        "outputId": "0e4239ed-096f-4732-ded4-1aa0d8f7d028"
      },
      "source": [
        "# Your code here\n",
        "non_legendary = pokemon[pokemon['Legendary']==False]\n",
        "non_legendary\n",
        "legendary = pokemon[pokemon['Legendary']==True]\n",
        "legendary"
      ],
      "execution_count": null,
      "outputs": [
        {
          "output_type": "execute_result",
          "data": {
            "text/html": [
              "<div>\n",
              "<style scoped>\n",
              "    .dataframe tbody tr th:only-of-type {\n",
              "        vertical-align: middle;\n",
              "    }\n",
              "\n",
              "    .dataframe tbody tr th {\n",
              "        vertical-align: top;\n",
              "    }\n",
              "\n",
              "    .dataframe thead th {\n",
              "        text-align: right;\n",
              "    }\n",
              "</style>\n",
              "<table border=\"1\" class=\"dataframe\">\n",
              "  <thead>\n",
              "    <tr style=\"text-align: right;\">\n",
              "      <th></th>\n",
              "      <th>#</th>\n",
              "      <th>Name</th>\n",
              "      <th>Type 1</th>\n",
              "      <th>Type 2</th>\n",
              "      <th>Total</th>\n",
              "      <th>HP</th>\n",
              "      <th>Attack</th>\n",
              "      <th>Defense</th>\n",
              "      <th>Sp. Atk</th>\n",
              "      <th>Sp. Def</th>\n",
              "      <th>Speed</th>\n",
              "      <th>Generation</th>\n",
              "      <th>Legendary</th>\n",
              "    </tr>\n",
              "  </thead>\n",
              "  <tbody>\n",
              "    <tr>\n",
              "      <th>156</th>\n",
              "      <td>144</td>\n",
              "      <td>Articuno</td>\n",
              "      <td>Ice</td>\n",
              "      <td>Flying</td>\n",
              "      <td>580</td>\n",
              "      <td>90</td>\n",
              "      <td>85</td>\n",
              "      <td>100</td>\n",
              "      <td>95</td>\n",
              "      <td>125</td>\n",
              "      <td>85</td>\n",
              "      <td>1</td>\n",
              "      <td>True</td>\n",
              "    </tr>\n",
              "    <tr>\n",
              "      <th>157</th>\n",
              "      <td>145</td>\n",
              "      <td>Zapdos</td>\n",
              "      <td>Electric</td>\n",
              "      <td>Flying</td>\n",
              "      <td>580</td>\n",
              "      <td>90</td>\n",
              "      <td>90</td>\n",
              "      <td>85</td>\n",
              "      <td>125</td>\n",
              "      <td>90</td>\n",
              "      <td>100</td>\n",
              "      <td>1</td>\n",
              "      <td>True</td>\n",
              "    </tr>\n",
              "    <tr>\n",
              "      <th>158</th>\n",
              "      <td>146</td>\n",
              "      <td>Moltres</td>\n",
              "      <td>Fire</td>\n",
              "      <td>Flying</td>\n",
              "      <td>580</td>\n",
              "      <td>90</td>\n",
              "      <td>100</td>\n",
              "      <td>90</td>\n",
              "      <td>125</td>\n",
              "      <td>85</td>\n",
              "      <td>90</td>\n",
              "      <td>1</td>\n",
              "      <td>True</td>\n",
              "    </tr>\n",
              "    <tr>\n",
              "      <th>162</th>\n",
              "      <td>150</td>\n",
              "      <td>Mewtwo</td>\n",
              "      <td>Psychic</td>\n",
              "      <td>NaN</td>\n",
              "      <td>680</td>\n",
              "      <td>106</td>\n",
              "      <td>110</td>\n",
              "      <td>90</td>\n",
              "      <td>154</td>\n",
              "      <td>90</td>\n",
              "      <td>130</td>\n",
              "      <td>1</td>\n",
              "      <td>True</td>\n",
              "    </tr>\n",
              "    <tr>\n",
              "      <th>163</th>\n",
              "      <td>150</td>\n",
              "      <td>MewtwoMega Mewtwo X</td>\n",
              "      <td>Psychic</td>\n",
              "      <td>Fighting</td>\n",
              "      <td>780</td>\n",
              "      <td>106</td>\n",
              "      <td>190</td>\n",
              "      <td>100</td>\n",
              "      <td>154</td>\n",
              "      <td>100</td>\n",
              "      <td>130</td>\n",
              "      <td>1</td>\n",
              "      <td>True</td>\n",
              "    </tr>\n",
              "    <tr>\n",
              "      <th>...</th>\n",
              "      <td>...</td>\n",
              "      <td>...</td>\n",
              "      <td>...</td>\n",
              "      <td>...</td>\n",
              "      <td>...</td>\n",
              "      <td>...</td>\n",
              "      <td>...</td>\n",
              "      <td>...</td>\n",
              "      <td>...</td>\n",
              "      <td>...</td>\n",
              "      <td>...</td>\n",
              "      <td>...</td>\n",
              "      <td>...</td>\n",
              "    </tr>\n",
              "    <tr>\n",
              "      <th>795</th>\n",
              "      <td>719</td>\n",
              "      <td>Diancie</td>\n",
              "      <td>Rock</td>\n",
              "      <td>Fairy</td>\n",
              "      <td>600</td>\n",
              "      <td>50</td>\n",
              "      <td>100</td>\n",
              "      <td>150</td>\n",
              "      <td>100</td>\n",
              "      <td>150</td>\n",
              "      <td>50</td>\n",
              "      <td>6</td>\n",
              "      <td>True</td>\n",
              "    </tr>\n",
              "    <tr>\n",
              "      <th>796</th>\n",
              "      <td>719</td>\n",
              "      <td>DiancieMega Diancie</td>\n",
              "      <td>Rock</td>\n",
              "      <td>Fairy</td>\n",
              "      <td>700</td>\n",
              "      <td>50</td>\n",
              "      <td>160</td>\n",
              "      <td>110</td>\n",
              "      <td>160</td>\n",
              "      <td>110</td>\n",
              "      <td>110</td>\n",
              "      <td>6</td>\n",
              "      <td>True</td>\n",
              "    </tr>\n",
              "    <tr>\n",
              "      <th>797</th>\n",
              "      <td>720</td>\n",
              "      <td>HoopaHoopa Confined</td>\n",
              "      <td>Psychic</td>\n",
              "      <td>Ghost</td>\n",
              "      <td>600</td>\n",
              "      <td>80</td>\n",
              "      <td>110</td>\n",
              "      <td>60</td>\n",
              "      <td>150</td>\n",
              "      <td>130</td>\n",
              "      <td>70</td>\n",
              "      <td>6</td>\n",
              "      <td>True</td>\n",
              "    </tr>\n",
              "    <tr>\n",
              "      <th>798</th>\n",
              "      <td>720</td>\n",
              "      <td>HoopaHoopa Unbound</td>\n",
              "      <td>Psychic</td>\n",
              "      <td>Dark</td>\n",
              "      <td>680</td>\n",
              "      <td>80</td>\n",
              "      <td>160</td>\n",
              "      <td>60</td>\n",
              "      <td>170</td>\n",
              "      <td>130</td>\n",
              "      <td>80</td>\n",
              "      <td>6</td>\n",
              "      <td>True</td>\n",
              "    </tr>\n",
              "    <tr>\n",
              "      <th>799</th>\n",
              "      <td>721</td>\n",
              "      <td>Volcanion</td>\n",
              "      <td>Fire</td>\n",
              "      <td>Water</td>\n",
              "      <td>600</td>\n",
              "      <td>80</td>\n",
              "      <td>110</td>\n",
              "      <td>120</td>\n",
              "      <td>130</td>\n",
              "      <td>90</td>\n",
              "      <td>70</td>\n",
              "      <td>6</td>\n",
              "      <td>True</td>\n",
              "    </tr>\n",
              "  </tbody>\n",
              "</table>\n",
              "<p>65 rows × 13 columns</p>\n",
              "</div>"
            ],
            "text/plain": [
              "       #                 Name    Type 1  ... Speed  Generation  Legendary\n",
              "156  144             Articuno       Ice  ...    85           1       True\n",
              "157  145               Zapdos  Electric  ...   100           1       True\n",
              "158  146              Moltres      Fire  ...    90           1       True\n",
              "162  150               Mewtwo   Psychic  ...   130           1       True\n",
              "163  150  MewtwoMega Mewtwo X   Psychic  ...   130           1       True\n",
              "..   ...                  ...       ...  ...   ...         ...        ...\n",
              "795  719              Diancie      Rock  ...    50           6       True\n",
              "796  719  DiancieMega Diancie      Rock  ...   110           6       True\n",
              "797  720  HoopaHoopa Confined   Psychic  ...    70           6       True\n",
              "798  720   HoopaHoopa Unbound   Psychic  ...    80           6       True\n",
              "799  721            Volcanion      Fire  ...    70           6       True\n",
              "\n",
              "[65 rows x 13 columns]"
            ]
          },
          "metadata": {},
          "execution_count": 8
        }
      ]
    },
    {
      "cell_type": "code",
      "metadata": {
        "colab": {
          "base_uri": "https://localhost:8080/"
        },
        "id": "gH3v0qnuDzJR",
        "outputId": "1bf397f5-a71f-45dc-876c-1788132a1109"
      },
      "source": [
        "t_test_features(legendary,non_legendary)"
      ],
      "execution_count": null,
      "outputs": [
        {
          "output_type": "execute_result",
          "data": {
            "text/plain": [
              "{'Attack': 7.827253003205333e-24,\n",
              " 'Defense': 1.5842226094427255e-12,\n",
              " 'HP': 3.330647684846191e-15,\n",
              " 'Sp. Atk': 6.314915770427266e-41,\n",
              " 'Sp. Def': 1.8439809580409333e-26,\n",
              " 'Speed': 2.3540754436897763e-21,\n",
              " 'Total': 3.0952457469652825e-52}"
            ]
          },
          "metadata": {},
          "execution_count": 13
        }
      ]
    },
    {
      "cell_type": "markdown",
      "metadata": {
        "id": "2YZAf3VG_jl9"
      },
      "source": [
        "#### From the test results above, what conclusion can you make? Do Legendary and non-Legendary pokemons have significantly different stats on each feature?"
      ]
    },
    {
      "cell_type": "code",
      "metadata": {
        "id": "UYpV82dz_jl-"
      },
      "source": [
        "# Your comment here\n",
        "'''\n",
        "From the interpretation of the data abpve, we can conclude that the data from legendary\n",
        " and non legendary has no similitude\n",
        "'''"
      ],
      "execution_count": null,
      "outputs": []
    },
    {
      "cell_type": "markdown",
      "metadata": {
        "id": "7a6BJlgq_jl-"
      },
      "source": [
        "#### Next, conduct t-test for Generation 1 and Generation 2 pokemons."
      ]
    },
    {
      "cell_type": "code",
      "metadata": {
        "colab": {
          "base_uri": "https://localhost:8080/"
        },
        "id": "ZGW7BfAv_jl_",
        "outputId": "c3ee7768-42b5-4d83-f4f6-b6bea95795bf"
      },
      "source": [
        "# Your code here\n",
        "gen_1 = pokemon[pokemon['Generation']==1]\n",
        "gen_2 = pokemon[pokemon['Generation']==2]\n",
        "t_test_features(gen_1,gen_2)"
      ],
      "execution_count": null,
      "outputs": [
        {
          "output_type": "execute_result",
          "data": {
            "text/plain": [
              "{'Attack': 0.24050968418101457,\n",
              " 'Defense': 0.5407630349194362,\n",
              " 'HP': 0.13791881412813622,\n",
              " 'Sp. Atk': 0.141197881763315,\n",
              " 'Sp. Def': 0.16781226231606386,\n",
              " 'Speed': 0.0028356954812578704,\n",
              " 'Total': 0.559914064901444}"
            ]
          },
          "metadata": {},
          "execution_count": 14
        }
      ]
    },
    {
      "cell_type": "markdown",
      "metadata": {
        "id": "qZydpUp1_jl_"
      },
      "source": [
        "#### What conclusions can you make?"
      ]
    },
    {
      "cell_type": "code",
      "metadata": {
        "id": "RNr9j3zL_jmA"
      },
      "source": [
        "# Your comment here\n",
        "'''\n",
        "From the p values, we can conclude a strong relation between the values\n",
        "'''"
      ],
      "execution_count": null,
      "outputs": []
    },
    {
      "cell_type": "markdown",
      "metadata": {
        "id": "wETIyYA9_jmA"
      },
      "source": [
        "#### Compare pokemons who have single type vs those having two types."
      ]
    },
    {
      "cell_type": "code",
      "metadata": {
        "colab": {
          "base_uri": "https://localhost:8080/"
        },
        "id": "T0pn4Z30_jmB",
        "outputId": "48fddb7b-745b-4ade-df5e-faf178645db0"
      },
      "source": [
        "# Your code here\n",
        "single = pokemon[pokemon['Type 2'].isnull()]\n",
        "two_types = pokemon[pokemon['Type 2'].isnull()==False]\n",
        "t_test_features(single,two_types)"
      ],
      "execution_count": null,
      "outputs": [
        {
          "output_type": "execute_result",
          "data": {
            "text/plain": [
              "{'Attack': 0.00015741395666164396,\n",
              " 'Defense': 3.250594205757004e-08,\n",
              " 'HP': 0.11060643144431853,\n",
              " 'Sp. Atk': 0.0001454917404035147,\n",
              " 'Sp. Def': 0.00010893304795534396,\n",
              " 'Speed': 0.024051410794037463,\n",
              " 'Total': 1.1749035008828668e-07}"
            ]
          },
          "metadata": {},
          "execution_count": 22
        }
      ]
    },
    {
      "cell_type": "markdown",
      "metadata": {
        "id": "dr-UXVP8_jmB"
      },
      "source": [
        "#### What conclusions can you make?"
      ]
    },
    {
      "cell_type": "code",
      "metadata": {
        "id": "Qtf9Ram3_jmB"
      },
      "source": [
        "# Your comment here\n",
        "'''\n",
        "There are some similitudes because of the p value of HP and Speed\n",
        "'''"
      ],
      "execution_count": null,
      "outputs": []
    },
    {
      "cell_type": "markdown",
      "metadata": {
        "id": "y6FPyvpw_jmC"
      },
      "source": [
        "#### Now, we want to compare whether there are significant differences of `Attack` vs `Defense`  and  `Sp. Atk` vs `Sp. Def` of all pokemons. Please write your code below.\n",
        "\n",
        "*Hint: are you comparing different populations or the same population?*"
      ]
    },
    {
      "cell_type": "code",
      "metadata": {
        "colab": {
          "base_uri": "https://localhost:8080/"
        },
        "id": "UVmupCG0_jmC",
        "outputId": "c26bccef-9fcc-4997-f9b7-5b1bcb3b4510"
      },
      "source": [
        "# Your code here\n",
        "t_test_features(pokemon,pokemon)"
      ],
      "execution_count": null,
      "outputs": [
        {
          "output_type": "execute_result",
          "data": {
            "text/plain": [
              "{'Attack': 1.0,\n",
              " 'Defense': 1.0,\n",
              " 'HP': 1.0,\n",
              " 'Sp. Atk': 1.0,\n",
              " 'Sp. Def': 1.0,\n",
              " 'Speed': 1.0,\n",
              " 'Total': 1.0}"
            ]
          },
          "metadata": {},
          "execution_count": 23
        }
      ]
    },
    {
      "cell_type": "markdown",
      "metadata": {
        "id": "PGqrRmbj_jmD"
      },
      "source": [
        "#### What conclusions can you make?"
      ]
    },
    {
      "cell_type": "code",
      "metadata": {
        "id": "TnoSobp-_jmD"
      },
      "source": [
        "# Your comment here"
      ],
      "execution_count": null,
      "outputs": []
    }
  ]
}